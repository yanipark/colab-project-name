{
  "nbformat": 4,
  "nbformat_minor": 0,
  "metadata": {
    "colab": {
      "provenance": [],
      "toc_visible": true,
      "mount_file_id": "1hPzJIVg7Inv_57htHOv05hNc5M7ol4yQ",
      "authorship_tag": "ABX9TyPKcn/ERNylnhFIui8fYDNM",
      "include_colab_link": true
    },
    "kernelspec": {
      "name": "python3",
      "display_name": "Python 3"
    },
    "language_info": {
      "name": "python"
    },
    "accelerator": "GPU",
    "gpuClass": "standard"
  },
  "cells": [
    {
      "cell_type": "markdown",
      "metadata": {
        "id": "view-in-github",
        "colab_type": "text"
      },
      "source": [
        "<a href=\"https://colab.research.google.com/github/yanipark/colab-project-name/blob/main/cifar10_project.ipynb\" target=\"_parent\"><img src=\"https://colab.research.google.com/assets/colab-badge.svg\" alt=\"Open In Colab\"/></a>"
      ]
    },
    {
      "cell_type": "code",
      "source": [
        "import os\n",
        "import torch #GPU 사용\n",
        "import numpy as np\n",
        "import pandas as pd\n",
        "import tensorflow as tf\n",
        "import matplotlib.pyplot as plt\n",
        "from keras.preprocessing.image import ImageDataGenerator\n",
        "np.random.seed(3)"
      ],
      "metadata": {
        "id": "tU94rWCGiFZ4",
        "colab": {
          "base_uri": "https://localhost:8080/",
          "height": 400
        },
        "outputId": "2c6427c8-317a-41cf-c85f-ef09259eab1e"
      },
      "execution_count": null,
      "outputs": [
        {
          "output_type": "error",
          "ename": "ImportError",
          "evalue": "cannot import name 'ImageDataGenerator' from 'keras.preprocessing.image' (/usr/local/lib/python3.10/dist-packages/keras/api/preprocessing/image/__init__.py)",
          "traceback": [
            "\u001b[0;31m---------------------------------------------------------------------------\u001b[0m",
            "\u001b[0;31mImportError\u001b[0m                               Traceback (most recent call last)",
            "\u001b[0;32m<ipython-input-3-42a5618a4963>\u001b[0m in \u001b[0;36m<cell line: 7>\u001b[0;34m()\u001b[0m\n\u001b[1;32m      5\u001b[0m \u001b[0;32mimport\u001b[0m \u001b[0mtensorflow\u001b[0m \u001b[0;32mas\u001b[0m \u001b[0mtf\u001b[0m\u001b[0;34m\u001b[0m\u001b[0;34m\u001b[0m\u001b[0m\n\u001b[1;32m      6\u001b[0m \u001b[0;32mimport\u001b[0m \u001b[0mmatplotlib\u001b[0m\u001b[0;34m.\u001b[0m\u001b[0mpyplot\u001b[0m \u001b[0;32mas\u001b[0m \u001b[0mplt\u001b[0m\u001b[0;34m\u001b[0m\u001b[0;34m\u001b[0m\u001b[0m\n\u001b[0;32m----> 7\u001b[0;31m \u001b[0;32mfrom\u001b[0m \u001b[0mkeras\u001b[0m\u001b[0;34m.\u001b[0m\u001b[0mpreprocessing\u001b[0m\u001b[0;34m.\u001b[0m\u001b[0mimage\u001b[0m \u001b[0;32mimport\u001b[0m \u001b[0mImageDataGenerator\u001b[0m\u001b[0;34m\u001b[0m\u001b[0;34m\u001b[0m\u001b[0m\n\u001b[0m\u001b[1;32m      8\u001b[0m \u001b[0mnp\u001b[0m\u001b[0;34m.\u001b[0m\u001b[0mrandom\u001b[0m\u001b[0;34m.\u001b[0m\u001b[0mseed\u001b[0m\u001b[0;34m(\u001b[0m\u001b[0;36m3\u001b[0m\u001b[0;34m)\u001b[0m\u001b[0;34m\u001b[0m\u001b[0;34m\u001b[0m\u001b[0m\n",
            "\u001b[0;31mImportError\u001b[0m: cannot import name 'ImageDataGenerator' from 'keras.preprocessing.image' (/usr/local/lib/python3.10/dist-packages/keras/api/preprocessing/image/__init__.py)",
            "",
            "\u001b[0;31m---------------------------------------------------------------------------\u001b[0;32m\nNOTE: If your import is failing due to a missing package, you can\nmanually install dependencies using either !pip or !apt.\n\nTo view examples of installing some common dependencies, click the\n\"Open Examples\" button below.\n\u001b[0;31m---------------------------------------------------------------------------\u001b[0m\n"
          ],
          "errorDetails": {
            "actions": [
              {
                "action": "open_url",
                "actionText": "Open Examples",
                "url": "/notebooks/snippets/importing_libraries.ipynb"
              }
            ]
          }
        }
      ]
    },
    {
      "cell_type": "code",
      "source": [
        "from google.colab import drive\n",
        "drive.mount (\"/content/qdrive\")\n"
      ],
      "metadata": {
        "colab": {
          "base_uri": "https://localhost:8080/"
        },
        "id": "BpRi2nRLDHVn",
        "outputId": "79a4fce6-c3cc-47b5-9c70-af7a2c0b1064"
      },
      "execution_count": null,
      "outputs": [
        {
          "output_type": "stream",
          "name": "stdout",
          "text": [
            "Mounted at /content/qdrive\n"
          ]
        }
      ]
    },
    {
      "cell_type": "code",
      "source": [
        "%cd /content/qdrive/MyDrive/archive\n",
        "\n",
        "!unzip -qq \"/content/qdrive/MyDrive/archive.zip\""
      ],
      "metadata": {
        "colab": {
          "base_uri": "https://localhost:8080/"
        },
        "id": "swfB8KBNUJWk",
        "outputId": "1714deaf-702a-4fd2-c496-df50df4cb91e"
      },
      "execution_count": null,
      "outputs": [
        {
          "output_type": "stream",
          "name": "stdout",
          "text": [
            "/content/qdrive/MyDrive/archive\n",
            "replace cifar10/labels.txt? [y]es, [n]o, [A]ll, [N]one, [r]ename: "
          ]
        }
      ]
    },
    {
      "cell_type": "code",
      "source": [
        "train_datagen =ImageDataGenerator(rescale=1./255,\n",
        "                                   rotation_range=30,\n",
        "                                   shear_range=0.2,\n",
        "                                   zoom_range=0.2,\n",
        "                                   horizontal_flip=True,\n",
        "                                   validation_split=0.1)\n",
        "\n",
        "train_set = train_datagen.flow_from_directory('/content/qdrive/MyDrive/archive/cifar10/train',\n",
        "                                              target_size=(32,32),\n",
        "                                              batch_size=50,\n",
        "                                              class_mode='categorical',\n",
        "                                              shuffle = True)\n",
        "\n",
        "validation_set = train_datagen.flow_from_directory('/content/qdrive/MyDrive/archive/cifar10/train',\n",
        "                                              target_size=(32,32),\n",
        "                                              batch_size=50,\n",
        "                                              class_mode='categorical',\n",
        "                                              subset = 'validation',\n",
        "                                              shuffle = True)\n",
        "\n",
        "test_datagen = ImageDataGenerator(rescale=1./255)#test_set은 Normalization만 진행\n",
        "\n",
        "test_set = test_datagen.flow_from_directory('/content/qdrive/MyDrive/archive/cifar10/test',\n",
        "                                              target_size=(32,32),\n",
        "                                              batch_size=50,\n",
        "                                              class_mode='categorical',\n",
        "                                              shuffle= False)\n",
        "\n",
        "\n"
      ],
      "metadata": {
        "id": "QHisZwAXjOzU",
        "colab": {
          "base_uri": "https://localhost:8080/"
        },
        "outputId": "62a24d44-0cec-4488-e02c-f3eed7b8a5d0"
      },
      "execution_count": null,
      "outputs": [
        {
          "output_type": "stream",
          "name": "stdout",
          "text": [
            "Found 50000 images belonging to 10 classes.\n",
            "Found 10000 images belonging to 10 classes.\n"
          ]
        }
      ]
    },
    {
      "cell_type": "code",
      "source": [],
      "metadata": {
        "id": "BhM4UEqQLNYj"
      },
      "execution_count": null,
      "outputs": []
    },
    {
      "cell_type": "markdown",
      "source": [],
      "metadata": {
        "id": "l36W-mm9bo3G"
      }
    },
    {
      "cell_type": "code",
      "execution_count": null,
      "metadata": {
        "id": "IsgXTR18gMYH"
      },
      "outputs": [],
      "source": [
        "from tensorflow.keras.models import Sequential\n",
        "from tensorflow.keras.layers import Activation,Flatten, Dense, Dropout,BatchNormalization\n",
        "from tensorflow.keras.layers import Conv2D, MaxPooling2D\n",
        "from tensorflow.keras.optimizers.legacy import Adam\n",
        "from keras.utils import plot_model"
      ]
    },
    {
      "cell_type": "code",
      "source": [
        "#model(Dense, Dropout, BatchNormalization)이용 추가로 flatten\n",
        "model= Sequential()\n",
        "\n",
        "model.add(Conv2D(32,(3,3), input_shape = (32,32,3)))\n",
        "model.add(BatchNormalization())\n",
        "model.add(Activation('relu')) #활성화 함수\n",
        "\n",
        "model.add(Conv2D(64, (3, 3)))\n",
        "model.add(BatchNormalization())\n",
        "model.add(Activation('relu'))\n",
        "model.add(MaxPooling2D(pool_size=(2, 2))) #4배 축소\n",
        "\n",
        "model.add(Conv2D(128, (3, 3)))\n",
        "model.add(Activation('relu'))\n",
        "\n",
        "model.add(Conv2D(128, (3, 3)))\n",
        "model.add(Activation('relu'))\n",
        "model.add(MaxPooling2D(pool_size=(2, 2)))\n",
        "\n",
        "\n",
        "model.add(Flatten()) #활성화함수를 사용하기전에 1차원으로 바꿔줌\n",
        "\n",
        "#  특징 추출 -> Classification\n",
        "model.add(Dense(128, activation = 'relu'))\n",
        "model.add(Dropout(0.5))\n",
        "model.add(Dense(32, activation = 'relu'))\n",
        "model.add(Dropout(0.5)) # 과적합을 피하기 위해서 dropout 사용. 50% 노드를 사용\n",
        "model.add(Dense(10)) #최종출력 노드의 수는 클래스 갯수와 같은 10개로\n",
        "model.add(Activation('softmax')) #출력층(다중 클래스 분류 문제) = softmax function\n",
        "model.summary()\n"
      ],
      "metadata": {
        "id": "0WQC7SWUhIfm",
        "colab": {
          "base_uri": "https://localhost:8080/"
        },
        "outputId": "129aa42e-6ef0-4163-9d53-2566999d2eb1"
      },
      "execution_count": null,
      "outputs": [
        {
          "output_type": "stream",
          "name": "stdout",
          "text": [
            "Model: \"sequential\"\n",
            "_________________________________________________________________\n",
            " Layer (type)                Output Shape              Param #   \n",
            "=================================================================\n",
            " conv2d (Conv2D)             (None, 30, 30, 32)        896       \n",
            "                                                                 \n",
            " batch_normalization (BatchN  (None, 30, 30, 32)       128       \n",
            " ormalization)                                                   \n",
            "                                                                 \n",
            " activation (Activation)     (None, 30, 30, 32)        0         \n",
            "                                                                 \n",
            " conv2d_1 (Conv2D)           (None, 28, 28, 64)        18496     \n",
            "                                                                 \n",
            " batch_normalization_1 (Batc  (None, 28, 28, 64)       256       \n",
            " hNormalization)                                                 \n",
            "                                                                 \n",
            " activation_1 (Activation)   (None, 28, 28, 64)        0         \n",
            "                                                                 \n",
            " max_pooling2d (MaxPooling2D  (None, 14, 14, 64)       0         \n",
            " )                                                               \n",
            "                                                                 \n",
            " conv2d_2 (Conv2D)           (None, 12, 12, 128)       73856     \n",
            "                                                                 \n",
            " activation_2 (Activation)   (None, 12, 12, 128)       0         \n",
            "                                                                 \n",
            " conv2d_3 (Conv2D)           (None, 10, 10, 128)       147584    \n",
            "                                                                 \n",
            " activation_3 (Activation)   (None, 10, 10, 128)       0         \n",
            "                                                                 \n",
            " max_pooling2d_1 (MaxPooling  (None, 5, 5, 128)        0         \n",
            " 2D)                                                             \n",
            "                                                                 \n",
            " flatten (Flatten)           (None, 3200)              0         \n",
            "                                                                 \n",
            " dense (Dense)               (None, 128)               409728    \n",
            "                                                                 \n",
            " dropout (Dropout)           (None, 128)               0         \n",
            "                                                                 \n",
            " dense_1 (Dense)             (None, 32)                4128      \n",
            "                                                                 \n",
            " dropout_1 (Dropout)         (None, 32)                0         \n",
            "                                                                 \n",
            " dense_2 (Dense)             (None, 10)                330       \n",
            "                                                                 \n",
            " activation_4 (Activation)   (None, 10)                0         \n",
            "                                                                 \n",
            "=================================================================\n",
            "Total params: 655,402\n",
            "Trainable params: 655,210\n",
            "Non-trainable params: 192\n",
            "_________________________________________________________________\n"
          ]
        }
      ]
    },
    {
      "cell_type": "code",
      "source": [
        "#compile\n",
        "model.compile(optimizer=\"Adam\",\n",
        "              loss = 'categorical_crossentropy',\n",
        "              metrics = ['accuracy'])\n",
        "model.summary()"
      ],
      "metadata": {
        "id": "Oih57F-phQHE",
        "colab": {
          "base_uri": "https://localhost:8080/"
        },
        "outputId": "f6543fec-f590-4f00-a240-2b924ebea59f"
      },
      "execution_count": null,
      "outputs": [
        {
          "output_type": "stream",
          "name": "stdout",
          "text": [
            "Model: \"sequential\"\n",
            "_________________________________________________________________\n",
            " Layer (type)                Output Shape              Param #   \n",
            "=================================================================\n",
            " conv2d (Conv2D)             (None, 30, 30, 32)        896       \n",
            "                                                                 \n",
            " batch_normalization (BatchN  (None, 30, 30, 32)       128       \n",
            " ormalization)                                                   \n",
            "                                                                 \n",
            " activation (Activation)     (None, 30, 30, 32)        0         \n",
            "                                                                 \n",
            " conv2d_1 (Conv2D)           (None, 28, 28, 64)        18496     \n",
            "                                                                 \n",
            " batch_normalization_1 (Batc  (None, 28, 28, 64)       256       \n",
            " hNormalization)                                                 \n",
            "                                                                 \n",
            " activation_1 (Activation)   (None, 28, 28, 64)        0         \n",
            "                                                                 \n",
            " max_pooling2d (MaxPooling2D  (None, 14, 14, 64)       0         \n",
            " )                                                               \n",
            "                                                                 \n",
            " conv2d_2 (Conv2D)           (None, 12, 12, 128)       73856     \n",
            "                                                                 \n",
            " activation_2 (Activation)   (None, 12, 12, 128)       0         \n",
            "                                                                 \n",
            " conv2d_3 (Conv2D)           (None, 10, 10, 128)       147584    \n",
            "                                                                 \n",
            " activation_3 (Activation)   (None, 10, 10, 128)       0         \n",
            "                                                                 \n",
            " max_pooling2d_1 (MaxPooling  (None, 5, 5, 128)        0         \n",
            " 2D)                                                             \n",
            "                                                                 \n",
            " flatten (Flatten)           (None, 3200)              0         \n",
            "                                                                 \n",
            " dense (Dense)               (None, 128)               409728    \n",
            "                                                                 \n",
            " dropout (Dropout)           (None, 128)               0         \n",
            "                                                                 \n",
            " dense_1 (Dense)             (None, 32)                4128      \n",
            "                                                                 \n",
            " dropout_1 (Dropout)         (None, 32)                0         \n",
            "                                                                 \n",
            " dense_2 (Dense)             (None, 10)                330       \n",
            "                                                                 \n",
            " activation_4 (Activation)   (None, 10)                0         \n",
            "                                                                 \n",
            "=================================================================\n",
            "Total params: 655,402\n",
            "Trainable params: 655,210\n",
            "Non-trainable params: 192\n",
            "_________________________________________________________________\n"
          ]
        }
      ]
    },
    {
      "cell_type": "code",
      "source": [
        "#fit(model 학습)\n",
        "model.fit_generator(train_set,\n",
        "                    steps_per_epoch=len(train_set),\n",
        "                    epochs=30,\n",
        "                    validation_data=test_set,\n",
        "                    validation_steps = len(test_set))"
      ],
      "metadata": {
        "colab": {
          "base_uri": "https://localhost:8080/"
        },
        "id": "BfeLw4eHJy0y",
        "outputId": "83745d07-ad7e-4de4-8eaf-1a4040e5d234"
      },
      "execution_count": null,
      "outputs": [
        {
          "metadata": {
            "tags": null
          },
          "name": "stderr",
          "output_type": "stream",
          "text": [
            "<ipython-input-9-4875879e26f9>:2: UserWarning: `Model.fit_generator` is deprecated and will be removed in a future version. Please use `Model.fit`, which supports generators.\n",
            "  model.fit_generator(train_set,\n"
          ]
        },
        {
          "output_type": "stream",
          "name": "stdout",
          "text": [
            "Epoch 1/30\n",
            "1000/1000 [==============================] - 152s 152ms/step - loss: 2.0051 - accuracy: 0.2420 - val_loss: 1.6219 - val_accuracy: 0.4066\n",
            "Epoch 2/30\n",
            "1000/1000 [==============================] - 138s 138ms/step - loss: 1.7179 - accuracy: 0.3695 - val_loss: 1.5128 - val_accuracy: 0.4270\n",
            "Epoch 3/30\n",
            "1000/1000 [==============================] - 138s 138ms/step - loss: 1.5910 - accuracy: 0.4223 - val_loss: 1.4020 - val_accuracy: 0.4948\n",
            "Epoch 4/30\n",
            "1000/1000 [==============================] - 142s 142ms/step - loss: 1.5043 - accuracy: 0.4635 - val_loss: 1.4303 - val_accuracy: 0.4870\n",
            "Epoch 5/30\n",
            "1000/1000 [==============================] - 138s 138ms/step - loss: 1.4396 - accuracy: 0.4915 - val_loss: 1.2580 - val_accuracy: 0.5520\n",
            "Epoch 6/30\n",
            "1000/1000 [==============================] - 139s 139ms/step - loss: 1.3763 - accuracy: 0.5196 - val_loss: 1.3101 - val_accuracy: 0.5401\n",
            "Epoch 7/30\n",
            "1000/1000 [==============================] - 134s 134ms/step - loss: 1.3354 - accuracy: 0.5399 - val_loss: 1.1461 - val_accuracy: 0.6017\n",
            "Epoch 8/30\n",
            "1000/1000 [==============================] - 137s 137ms/step - loss: 1.3038 - accuracy: 0.5554 - val_loss: 1.2659 - val_accuracy: 0.5593\n",
            "Epoch 9/30\n",
            "1000/1000 [==============================] - 135s 135ms/step - loss: 1.2684 - accuracy: 0.5709 - val_loss: 1.0858 - val_accuracy: 0.6250\n",
            "Epoch 10/30\n",
            "1000/1000 [==============================] - 135s 135ms/step - loss: 1.2432 - accuracy: 0.5786 - val_loss: 0.9632 - val_accuracy: 0.6627\n",
            "Epoch 11/30\n",
            "1000/1000 [==============================] - 135s 135ms/step - loss: 1.2200 - accuracy: 0.5884 - val_loss: 1.5771 - val_accuracy: 0.4994\n",
            "Epoch 12/30\n",
            "1000/1000 [==============================] - 135s 135ms/step - loss: 1.2023 - accuracy: 0.5928 - val_loss: 1.2453 - val_accuracy: 0.5800\n",
            "Epoch 13/30\n",
            "1000/1000 [==============================] - 134s 134ms/step - loss: 1.1817 - accuracy: 0.6013 - val_loss: 1.2389 - val_accuracy: 0.5680\n",
            "Epoch 14/30\n",
            "1000/1000 [==============================] - 135s 135ms/step - loss: 1.1674 - accuracy: 0.6095 - val_loss: 1.0688 - val_accuracy: 0.6270\n",
            "Epoch 15/30\n",
            "1000/1000 [==============================] - 139s 139ms/step - loss: 1.1473 - accuracy: 0.6143 - val_loss: 1.0255 - val_accuracy: 0.6601\n",
            "Epoch 16/30\n",
            "1000/1000 [==============================] - 133s 133ms/step - loss: 1.1360 - accuracy: 0.6228 - val_loss: 0.9290 - val_accuracy: 0.6839\n",
            "Epoch 17/30\n",
            "1000/1000 [==============================] - 134s 134ms/step - loss: 1.1188 - accuracy: 0.6258 - val_loss: 0.9646 - val_accuracy: 0.6733\n",
            "Epoch 18/30\n",
            "1000/1000 [==============================] - 134s 134ms/step - loss: 1.1032 - accuracy: 0.6351 - val_loss: 0.9343 - val_accuracy: 0.6913\n",
            "Epoch 19/30\n",
            "1000/1000 [==============================] - 136s 136ms/step - loss: 1.0921 - accuracy: 0.6366 - val_loss: 1.0805 - val_accuracy: 0.6529\n",
            "Epoch 20/30\n",
            "1000/1000 [==============================] - 136s 136ms/step - loss: 1.0897 - accuracy: 0.6421 - val_loss: 0.8416 - val_accuracy: 0.7159\n",
            "Epoch 21/30\n",
            "1000/1000 [==============================] - 135s 135ms/step - loss: 1.0698 - accuracy: 0.6447 - val_loss: 0.9221 - val_accuracy: 0.6931\n",
            "Epoch 22/30\n",
            "1000/1000 [==============================] - 136s 136ms/step - loss: 1.0644 - accuracy: 0.6491 - val_loss: 0.8699 - val_accuracy: 0.7069\n",
            "Epoch 23/30\n",
            "1000/1000 [==============================] - 136s 136ms/step - loss: 1.0499 - accuracy: 0.6543 - val_loss: 0.8762 - val_accuracy: 0.7051\n",
            "Epoch 24/30\n",
            "1000/1000 [==============================] - 137s 137ms/step - loss: 1.0501 - accuracy: 0.6538 - val_loss: 0.8576 - val_accuracy: 0.7124\n",
            "Epoch 25/30\n",
            "1000/1000 [==============================] - 137s 137ms/step - loss: 1.0353 - accuracy: 0.6594 - val_loss: 0.8550 - val_accuracy: 0.7212\n",
            "Epoch 26/30\n",
            "1000/1000 [==============================] - 140s 140ms/step - loss: 1.0233 - accuracy: 0.6670 - val_loss: 0.8210 - val_accuracy: 0.7236\n",
            "Epoch 27/30\n",
            "1000/1000 [==============================] - 134s 134ms/step - loss: 1.0187 - accuracy: 0.6647 - val_loss: 0.8965 - val_accuracy: 0.6996\n",
            "Epoch 28/30\n",
            "1000/1000 [==============================] - 135s 135ms/step - loss: 1.0040 - accuracy: 0.6730 - val_loss: 0.8068 - val_accuracy: 0.7330\n",
            "Epoch 29/30\n",
            "1000/1000 [==============================] - 134s 134ms/step - loss: 0.9970 - accuracy: 0.6760 - val_loss: 0.9189 - val_accuracy: 0.6969\n",
            "Epoch 30/30\n",
            "1000/1000 [==============================] - 134s 134ms/step - loss: 1.0061 - accuracy: 0.6696 - val_loss: 0.7857 - val_accuracy: 0.7390\n"
          ]
        },
        {
          "output_type": "execute_result",
          "data": {
            "text/plain": [
              "<keras.callbacks.History at 0x7f1958a54670>"
            ]
          },
          "metadata": {},
          "execution_count": 9
        }
      ]
    },
    {
      "cell_type": "code",
      "source": [
        "#모델 성능 테스트 데이터로 평가\n",
        "test_hist = model.evaluate(test_set)"
      ],
      "metadata": {
        "id": "V39XVS_HJ3m7",
        "colab": {
          "base_uri": "https://localhost:8080/",
          "height": 190
        },
        "outputId": "12cba348-5bdc-4fdf-c88c-451d9b361547"
      },
      "execution_count": null,
      "outputs": [
        {
          "output_type": "error",
          "ename": "NameError",
          "evalue": "ignored",
          "traceback": [
            "\u001b[0;31m---------------------------------------------------------------------------\u001b[0m",
            "\u001b[0;31mNameError\u001b[0m                                 Traceback (most recent call last)",
            "\u001b[0;32m<ipython-input-6-1a0979369996>\u001b[0m in \u001b[0;36m<cell line: 2>\u001b[0;34m()\u001b[0m\n\u001b[1;32m      1\u001b[0m \u001b[0;31m#모델 성능 테스트 데이터로 평가\u001b[0m\u001b[0;34m\u001b[0m\u001b[0;34m\u001b[0m\u001b[0m\n\u001b[0;32m----> 2\u001b[0;31m \u001b[0mtest_hist\u001b[0m \u001b[0;34m=\u001b[0m \u001b[0mmodel\u001b[0m\u001b[0;34m.\u001b[0m\u001b[0mevaluate\u001b[0m\u001b[0;34m(\u001b[0m\u001b[0mvalidation_set\u001b[0m\u001b[0;34m)\u001b[0m\u001b[0;34m\u001b[0m\u001b[0;34m\u001b[0m\u001b[0m\n\u001b[0m",
            "\u001b[0;31mNameError\u001b[0m: name 'model' is not defined"
          ]
        }
      ]
    },
    {
      "cell_type": "code",
      "source": [
        "#acc&loss 그래프 그리기\n",
        " # plot loss\n",
        "from tensorflow.keras.utils import plot_model\n",
        "plot_model(model, to_file = 'model.png')"
      ],
      "metadata": {
        "id": "RYRclK35OUAx",
        "colab": {
          "base_uri": "https://localhost:8080/",
          "height": 209
        },
        "outputId": "548cd646-5769-4cd7-9c9b-031479b9d428"
      },
      "execution_count": null,
      "outputs": [
        {
          "output_type": "error",
          "ename": "NameError",
          "evalue": "ignored",
          "traceback": [
            "\u001b[0;31m---------------------------------------------------------------------------\u001b[0m",
            "\u001b[0;31mNameError\u001b[0m                                 Traceback (most recent call last)",
            "\u001b[0;32m<ipython-input-8-b2fc1253721e>\u001b[0m in \u001b[0;36m<cell line: 4>\u001b[0;34m()\u001b[0m\n\u001b[1;32m      2\u001b[0m  \u001b[0;31m# plot loss\u001b[0m\u001b[0;34m\u001b[0m\u001b[0;34m\u001b[0m\u001b[0m\n\u001b[1;32m      3\u001b[0m \u001b[0;32mfrom\u001b[0m \u001b[0mtensorflow\u001b[0m\u001b[0;34m.\u001b[0m\u001b[0mkeras\u001b[0m\u001b[0;34m.\u001b[0m\u001b[0mutils\u001b[0m \u001b[0;32mimport\u001b[0m \u001b[0mplot_model\u001b[0m\u001b[0;34m\u001b[0m\u001b[0;34m\u001b[0m\u001b[0m\n\u001b[0;32m----> 4\u001b[0;31m \u001b[0mplot_model\u001b[0m\u001b[0;34m(\u001b[0m\u001b[0mmodel\u001b[0m\u001b[0;34m,\u001b[0m \u001b[0mto_file\u001b[0m \u001b[0;34m=\u001b[0m \u001b[0;34m'model.png'\u001b[0m\u001b[0;34m)\u001b[0m\u001b[0;34m\u001b[0m\u001b[0;34m\u001b[0m\u001b[0m\n\u001b[0m",
            "\u001b[0;31mNameError\u001b[0m: name 'model' is not defined"
          ]
        }
      ]
    }
  ]
}